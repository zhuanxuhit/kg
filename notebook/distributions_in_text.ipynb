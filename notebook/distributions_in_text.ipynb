{
 "cells": [
  {
   "cell_type": "markdown",
   "metadata": {},
   "source": [
    "第一个定律 [齐夫定律,Zipf's law](http://everything.explained.today/Zipf's_law/)，其大意是：在一个大规模语料上，最多出现的单词次数是次出现的2倍，是第三最多的3倍。齐夫定律的一个很好解释就是经常听见的：2-8定律。少量的词却占了大量的次数。\n",
    "\n",
    "下面以[How to Use Python to Find the Zipf Distribution of a Text File](https://code.tutsplus.com/tutorials/how-to-use-python-to-find-the-zipf-distribution-of-a-text-file--cms-26502)这篇文章来说明"
   ]
  },
  {
   "cell_type": "code",
   "execution_count": null,
   "metadata": {
    "collapsed": true
   },
   "outputs": [],
   "source": []
  }
 ],
 "metadata": {
  "kernelspec": {
   "display_name": "Python 3",
   "language": "python",
   "name": "python3"
  },
  "language_info": {
   "codemirror_mode": {
    "name": "ipython",
    "version": 3
   },
   "file_extension": ".py",
   "mimetype": "text/x-python",
   "name": "python",
   "nbconvert_exporter": "python",
   "pygments_lexer": "ipython3",
   "version": "3.6.2"
  }
 },
 "nbformat": 4,
 "nbformat_minor": 2
}
