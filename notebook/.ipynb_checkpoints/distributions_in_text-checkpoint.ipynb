{
 "cells": [
  {
   "cell_type": "markdown",
   "metadata": {},
   "source": [
    "第一个定律 [齐夫定律,Zipf's law](http://everything.explained.today/Zipf's_law/)，其大意是：在一个大规模语料上，最多出现的单词次数是次出现的2倍，是第三最多的3倍。齐夫定律的一个很好解释就是经常听见的：2-8定律。"
   ]
  }
 ],
 "metadata": {
  "kernelspec": {
   "display_name": "Python 3",
   "language": "python",
   "name": "python3"
  },
  "language_info": {
   "codemirror_mode": {
    "name": "ipython",
    "version": 3
   },
   "file_extension": ".py",
   "mimetype": "text/x-python",
   "name": "python",
   "nbconvert_exporter": "python",
   "pygments_lexer": "ipython3",
   "version": "3.6.2"
  }
 },
 "nbformat": 4,
 "nbformat_minor": 2
}
